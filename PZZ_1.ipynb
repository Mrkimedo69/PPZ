{
  "nbformat": 4,
  "nbformat_minor": 0,
  "metadata": {
    "colab": {
      "provenance": [],
      "authorship_tag": "ABX9TyNIrYUQ6L40akrgtIGn255G",
      "include_colab_link": true
    },
    "kernelspec": {
      "name": "ir",
      "display_name": "R"
    },
    "language_info": {
      "name": "R"
    }
  },
  "cells": [
    {
      "cell_type": "markdown",
      "metadata": {
        "id": "view-in-github",
        "colab_type": "text"
      },
      "source": [
        "<a href=\"https://colab.research.google.com/github/Mrkimedo69/PPZ/blob/main/PZZ_1.ipynb\" target=\"_parent\"><img src=\"https://colab.research.google.com/assets/colab-badge.svg\" alt=\"Open In Colab\"/></a>"
      ]
    },
    {
      "cell_type": "markdown",
      "source": [
        "Osnove operacije"
      ],
      "metadata": {
        "id": "Q5yJ9RNkdJsK"
      }
    },
    {
      "cell_type": "code",
      "execution_count": 2,
      "metadata": {
        "id": "3Jap6_rkcTCe",
        "colab": {
          "base_uri": "https://localhost:8080/",
          "height": 121
        },
        "outputId": "5cac244c-d342-4822-d8c1-285c10ad5b5c"
      },
      "outputs": [
        {
          "output_type": "display_data",
          "data": {
            "text/html": [
              "6"
            ],
            "text/markdown": "6",
            "text/latex": "6",
            "text/plain": [
              "[1] 6"
            ]
          },
          "metadata": {}
        },
        {
          "output_type": "display_data",
          "data": {
            "text/html": [
              "3"
            ],
            "text/markdown": "3",
            "text/latex": "3",
            "text/plain": [
              "[1] 3"
            ]
          },
          "metadata": {}
        },
        {
          "output_type": "display_data",
          "data": {
            "text/html": [
              "2.5"
            ],
            "text/markdown": "2.5",
            "text/latex": "2.5",
            "text/plain": [
              "[1] 2.5"
            ]
          },
          "metadata": {}
        },
        {
          "output_type": "display_data",
          "data": {
            "text/html": [
              "10"
            ],
            "text/markdown": "10",
            "text/latex": "10",
            "text/plain": [
              "[1] 10"
            ]
          },
          "metadata": {}
        },
        {
          "output_type": "display_data",
          "data": {
            "text/html": [
              "25"
            ],
            "text/markdown": "25",
            "text/latex": "25",
            "text/plain": [
              "[1] 25"
            ]
          },
          "metadata": {}
        },
        {
          "output_type": "display_data",
          "data": {
            "text/html": [
              "1"
            ],
            "text/markdown": "1",
            "text/latex": "1",
            "text/plain": [
              "[1] 1"
            ]
          },
          "metadata": {}
        }
      ],
      "source": [
        "5+1\n",
        "5-2\n",
        "5/2\n",
        "5*2\n",
        "5^2\n",
        "5%%2"
      ]
    },
    {
      "cell_type": "markdown",
      "source": [
        "Varijable"
      ],
      "metadata": {
        "id": "1ZNt2_32d0WL"
      }
    },
    {
      "cell_type": "code",
      "source": [
        "5 -> a\n",
        "a <- 5\n",
        "a = 5\n",
        "s=4\n",
        "c<-s*a\n",
        "c"
      ],
      "metadata": {
        "colab": {
          "base_uri": "https://localhost:8080/",
          "height": 34
        },
        "id": "hKw5dTF6d5xa",
        "outputId": "e29b14a8-da85-4385-8e6f-564baa163253"
      },
      "execution_count": 6,
      "outputs": [
        {
          "output_type": "display_data",
          "data": {
            "text/html": [
              "20"
            ],
            "text/markdown": "20",
            "text/latex": "20",
            "text/plain": [
              "[1] 20"
            ]
          },
          "metadata": {}
        }
      ]
    },
    {
      "cell_type": "markdown",
      "source": [
        "Zadatak: Varijabli broj1 pridruzite vrijednost 23, a varijabli broj2 vrijenodst 17. Ispite vrijednost varijabli"
      ],
      "metadata": {
        "id": "Z1aghS3BfSBX"
      }
    },
    {
      "cell_type": "code",
      "source": [
        "broj1 <- 23\n",
        "broj2 <- 17L\n",
        "broj1 ; broj2"
      ],
      "metadata": {
        "colab": {
          "base_uri": "https://localhost:8080/",
          "height": 52
        },
        "id": "Tdjxr3PifVKv",
        "outputId": "0a68b0b8-269a-4292-82d2-7e061d756e24"
      },
      "execution_count": 10,
      "outputs": [
        {
          "output_type": "display_data",
          "data": {
            "text/html": [
              "23"
            ],
            "text/markdown": "23",
            "text/latex": "23",
            "text/plain": [
              "[1] 23"
            ]
          },
          "metadata": {}
        },
        {
          "output_type": "display_data",
          "data": {
            "text/html": [
              "17"
            ],
            "text/markdown": "17",
            "text/latex": "17",
            "text/plain": [
              "[1] 17"
            ]
          },
          "metadata": {}
        }
      ]
    },
    {
      "cell_type": "code",
      "source": [
        "class(a)\n",
        "class(broj1)\n",
        "class(broj2)"
      ],
      "metadata": {
        "colab": {
          "base_uri": "https://localhost:8080/",
          "height": 69
        },
        "id": "8tlT--5Ifp63",
        "outputId": "ee412684-3fe9-4c74-aad5-5f8b594e965d"
      },
      "execution_count": 11,
      "outputs": [
        {
          "output_type": "display_data",
          "data": {
            "text/html": [
              "'numeric'"
            ],
            "text/markdown": "'numeric'",
            "text/latex": "'numeric'",
            "text/plain": [
              "[1] \"numeric\""
            ]
          },
          "metadata": {}
        },
        {
          "output_type": "display_data",
          "data": {
            "text/html": [
              "'numeric'"
            ],
            "text/markdown": "'numeric'",
            "text/latex": "'numeric'",
            "text/plain": [
              "[1] \"numeric\""
            ]
          },
          "metadata": {}
        },
        {
          "output_type": "display_data",
          "data": {
            "text/html": [
              "'integer'"
            ],
            "text/markdown": "'integer'",
            "text/latex": "'integer'",
            "text/plain": [
              "[1] \"integer\""
            ]
          },
          "metadata": {}
        }
      ]
    },
    {
      "cell_type": "markdown",
      "source": [
        " Vektori\n",
        " Vektori su, u sustini, 2D polja. Kreiramo ih koristeci funkcije cobine: c()"
      ],
      "metadata": {
        "id": "u9SL-MdDgjxH"
      }
    },
    {
      "cell_type": "code",
      "source": [
        "vek <- c('pon','uto','sri','cet','pet','sub','ned')\n",
        "vek"
      ],
      "metadata": {
        "colab": {
          "base_uri": "https://localhost:8080/",
          "height": 34
        },
        "id": "w4P0cuwjgqnu",
        "outputId": "d22f2ada-d97f-4164-f65c-7ac5afc22cec"
      },
      "execution_count": 12,
      "outputs": [
        {
          "output_type": "display_data",
          "data": {
            "text/html": [
              "<style>\n",
              ".list-inline {list-style: none; margin:0; padding: 0}\n",
              ".list-inline>li {display: inline-block}\n",
              ".list-inline>li:not(:last-child)::after {content: \"\\00b7\"; padding: 0 .5ex}\n",
              "</style>\n",
              "<ol class=list-inline><li>'pon'</li><li>'uto'</li><li>'sri'</li><li>'cet'</li><li>'pet'</li><li>'sub'</li><li>'ned'</li></ol>\n"
            ],
            "text/markdown": "1. 'pon'\n2. 'uto'\n3. 'sri'\n4. 'cet'\n5. 'pet'\n6. 'sub'\n7. 'ned'\n\n\n",
            "text/latex": "\\begin{enumerate*}\n\\item 'pon'\n\\item 'uto'\n\\item 'sri'\n\\item 'cet'\n\\item 'pet'\n\\item 'sub'\n\\item 'ned'\n\\end{enumerate*}\n",
            "text/plain": [
              "[1] \"pon\" \"uto\" \"sri\" \"cet\" \"pet\" \"sub\" \"ned\""
            ]
          },
          "metadata": {}
        }
      ]
    },
    {
      "cell_type": "markdown",
      "source": [
        "Zadatak  \n",
        "Kreirajte vekotre gravoi_vekotr ciji ce elementi biti gradovi Rijeka, Zagreb Split i Osijek  \n",
        "Zatim ga ispite"
      ],
      "metadata": {
        "id": "92zufriuhWZr"
      }
    },
    {
      "cell_type": "code",
      "source": [
        "gradovi_vek = c ('Rijeka', 'Zagreb','Osijek','Split')\n",
        "gradovi_vek"
      ],
      "metadata": {
        "colab": {
          "base_uri": "https://localhost:8080/",
          "height": 34
        },
        "id": "5BnDcWxvhjwT",
        "outputId": "5a17b69d-52e8-4584-968d-c2b55a702249"
      },
      "execution_count": 13,
      "outputs": [
        {
          "output_type": "display_data",
          "data": {
            "text/html": [
              "<style>\n",
              ".list-inline {list-style: none; margin:0; padding: 0}\n",
              ".list-inline>li {display: inline-block}\n",
              ".list-inline>li:not(:last-child)::after {content: \"\\00b7\"; padding: 0 .5ex}\n",
              "</style>\n",
              "<ol class=list-inline><li>'Rijeka'</li><li>'Zagreb'</li><li>'Osijek'</li><li>'Split'</li></ol>\n"
            ],
            "text/markdown": "1. 'Rijeka'\n2. 'Zagreb'\n3. 'Osijek'\n4. 'Split'\n\n\n",
            "text/latex": "\\begin{enumerate*}\n\\item 'Rijeka'\n\\item 'Zagreb'\n\\item 'Osijek'\n\\item 'Split'\n\\end{enumerate*}\n",
            "text/plain": [
              "[1] \"Rijeka\" \"Zagreb\" \"Osijek\" \"Split\" "
            ]
          },
          "metadata": {}
        }
      ]
    },
    {
      "cell_type": "markdown",
      "source": [
        "Klase vektori"
      ],
      "metadata": {
        "id": "RHB2fMVSh04r"
      }
    },
    {
      "cell_type": "code",
      "source": [
        "class(gradovi_vek)"
      ],
      "metadata": {
        "colab": {
          "base_uri": "https://localhost:8080/",
          "height": 34
        },
        "id": "3681NYKIh2pK",
        "outputId": "551d835f-69b7-41d7-f3b0-206b209588f5"
      },
      "execution_count": 14,
      "outputs": [
        {
          "output_type": "display_data",
          "data": {
            "text/html": [
              "'character'"
            ],
            "text/markdown": "'character'",
            "text/latex": "'character'",
            "text/plain": [
              "[1] \"character\""
            ]
          },
          "metadata": {}
        }
      ]
    },
    {
      "cell_type": "code",
      "source": [
        "mjesoviti = c(TRUE,5,'Hello')\n",
        "class(mjesoviti)"
      ],
      "metadata": {
        "colab": {
          "base_uri": "https://localhost:8080/",
          "height": 34
        },
        "id": "eL648ndliH7y",
        "outputId": "2e56c2a2-be96-4846-86b6-cc0c556a9a08"
      },
      "execution_count": 16,
      "outputs": [
        {
          "output_type": "display_data",
          "data": {
            "text/html": [
              "'character'"
            ],
            "text/markdown": "'character'",
            "text/latex": "'character'",
            "text/plain": [
              "[1] \"character\""
            ]
          },
          "metadata": {}
        }
      ]
    }
  ]
}