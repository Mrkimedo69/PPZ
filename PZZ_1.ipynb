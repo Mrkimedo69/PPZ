{
  "nbformat": 4,
  "nbformat_minor": 0,
  "metadata": {
    "colab": {
      "provenance": [],
      "authorship_tag": "ABX9TyNNQpCdh4aEG/iGF5Jzheap",
      "include_colab_link": true
    },
    "kernelspec": {
      "name": "ir",
      "display_name": "R"
    },
    "language_info": {
      "name": "R"
    }
  },
  "cells": [
    {
      "cell_type": "markdown",
      "metadata": {
        "id": "view-in-github",
        "colab_type": "text"
      },
      "source": [
        "<a href=\"https://colab.research.google.com/github/Mrkimedo69/PPZ/blob/main/PZZ_1.ipynb\" target=\"_parent\"><img src=\"https://colab.research.google.com/assets/colab-badge.svg\" alt=\"Open In Colab\"/></a>"
      ]
    },
    {
      "cell_type": "markdown",
      "source": [
        "Osnove operacije"
      ],
      "metadata": {
        "id": "Q5yJ9RNkdJsK"
      }
    },
    {
      "cell_type": "code",
      "execution_count": 2,
      "metadata": {
        "id": "3Jap6_rkcTCe",
        "colab": {
          "base_uri": "https://localhost:8080/",
          "height": 121
        },
        "outputId": "5cac244c-d342-4822-d8c1-285c10ad5b5c"
      },
      "outputs": [
        {
          "output_type": "display_data",
          "data": {
            "text/html": [
              "6"
            ],
            "text/markdown": "6",
            "text/latex": "6",
            "text/plain": [
              "[1] 6"
            ]
          },
          "metadata": {}
        },
        {
          "output_type": "display_data",
          "data": {
            "text/html": [
              "3"
            ],
            "text/markdown": "3",
            "text/latex": "3",
            "text/plain": [
              "[1] 3"
            ]
          },
          "metadata": {}
        },
        {
          "output_type": "display_data",
          "data": {
            "text/html": [
              "2.5"
            ],
            "text/markdown": "2.5",
            "text/latex": "2.5",
            "text/plain": [
              "[1] 2.5"
            ]
          },
          "metadata": {}
        },
        {
          "output_type": "display_data",
          "data": {
            "text/html": [
              "10"
            ],
            "text/markdown": "10",
            "text/latex": "10",
            "text/plain": [
              "[1] 10"
            ]
          },
          "metadata": {}
        },
        {
          "output_type": "display_data",
          "data": {
            "text/html": [
              "25"
            ],
            "text/markdown": "25",
            "text/latex": "25",
            "text/plain": [
              "[1] 25"
            ]
          },
          "metadata": {}
        },
        {
          "output_type": "display_data",
          "data": {
            "text/html": [
              "1"
            ],
            "text/markdown": "1",
            "text/latex": "1",
            "text/plain": [
              "[1] 1"
            ]
          },
          "metadata": {}
        }
      ],
      "source": [
        "5+1\n",
        "5-2\n",
        "5/2\n",
        "5*2\n",
        "5^2\n",
        "5%%2"
      ]
    },
    {
      "cell_type": "markdown",
      "source": [
        "Varijable"
      ],
      "metadata": {
        "id": "1ZNt2_32d0WL"
      }
    },
    {
      "cell_type": "code",
      "source": [
        "5 -> a\n",
        "a <- 5\n",
        "a = 5\n",
        "s=4\n",
        "c<-s*a\n",
        "c"
      ],
      "metadata": {
        "colab": {
          "base_uri": "https://localhost:8080/",
          "height": 34
        },
        "id": "hKw5dTF6d5xa",
        "outputId": "e29b14a8-da85-4385-8e6f-564baa163253"
      },
      "execution_count": 6,
      "outputs": [
        {
          "output_type": "display_data",
          "data": {
            "text/html": [
              "20"
            ],
            "text/markdown": "20",
            "text/latex": "20",
            "text/plain": [
              "[1] 20"
            ]
          },
          "metadata": {}
        }
      ]
    },
    {
      "cell_type": "markdown",
      "source": [
        "Zadatak: Varijabli broj1 pridruzite vrijednost 23, a varijabli broj2 vrijenodst 17. Ispite vrijednost varijabli"
      ],
      "metadata": {
        "id": "Z1aghS3BfSBX"
      }
    },
    {
      "cell_type": "code",
      "source": [
        "broj1 <- 23\n",
        "broj2 <- 17L\n",
        "broj1 ; broj2"
      ],
      "metadata": {
        "colab": {
          "base_uri": "https://localhost:8080/",
          "height": 52
        },
        "id": "Tdjxr3PifVKv",
        "outputId": "0a68b0b8-269a-4292-82d2-7e061d756e24"
      },
      "execution_count": 10,
      "outputs": [
        {
          "output_type": "display_data",
          "data": {
            "text/html": [
              "23"
            ],
            "text/markdown": "23",
            "text/latex": "23",
            "text/plain": [
              "[1] 23"
            ]
          },
          "metadata": {}
        },
        {
          "output_type": "display_data",
          "data": {
            "text/html": [
              "17"
            ],
            "text/markdown": "17",
            "text/latex": "17",
            "text/plain": [
              "[1] 17"
            ]
          },
          "metadata": {}
        }
      ]
    },
    {
      "cell_type": "code",
      "source": [
        "class(a)\n",
        "class(broj1)\n",
        "class(broj2)"
      ],
      "metadata": {
        "colab": {
          "base_uri": "https://localhost:8080/",
          "height": 69
        },
        "id": "8tlT--5Ifp63",
        "outputId": "ee412684-3fe9-4c74-aad5-5f8b594e965d"
      },
      "execution_count": 11,
      "outputs": [
        {
          "output_type": "display_data",
          "data": {
            "text/html": [
              "'numeric'"
            ],
            "text/markdown": "'numeric'",
            "text/latex": "'numeric'",
            "text/plain": [
              "[1] \"numeric\""
            ]
          },
          "metadata": {}
        },
        {
          "output_type": "display_data",
          "data": {
            "text/html": [
              "'numeric'"
            ],
            "text/markdown": "'numeric'",
            "text/latex": "'numeric'",
            "text/plain": [
              "[1] \"numeric\""
            ]
          },
          "metadata": {}
        },
        {
          "output_type": "display_data",
          "data": {
            "text/html": [
              "'integer'"
            ],
            "text/markdown": "'integer'",
            "text/latex": "'integer'",
            "text/plain": [
              "[1] \"integer\""
            ]
          },
          "metadata": {}
        }
      ]
    },
    {
      "cell_type": "markdown",
      "source": [
        " Vektori\n",
        " Vektori su, u sustini, 2D polja. Kreiramo ih koristeci funkcije cobine: c()"
      ],
      "metadata": {
        "id": "u9SL-MdDgjxH"
      }
    },
    {
      "cell_type": "code",
      "source": [
        "vek <- c('pon','uto','sri','cet','pet','sub','ned')\n",
        "vek"
      ],
      "metadata": {
        "colab": {
          "base_uri": "https://localhost:8080/",
          "height": 34
        },
        "id": "w4P0cuwjgqnu",
        "outputId": "d22f2ada-d97f-4164-f65c-7ac5afc22cec"
      },
      "execution_count": 12,
      "outputs": [
        {
          "output_type": "display_data",
          "data": {
            "text/html": [
              "<style>\n",
              ".list-inline {list-style: none; margin:0; padding: 0}\n",
              ".list-inline>li {display: inline-block}\n",
              ".list-inline>li:not(:last-child)::after {content: \"\\00b7\"; padding: 0 .5ex}\n",
              "</style>\n",
              "<ol class=list-inline><li>'pon'</li><li>'uto'</li><li>'sri'</li><li>'cet'</li><li>'pet'</li><li>'sub'</li><li>'ned'</li></ol>\n"
            ],
            "text/markdown": "1. 'pon'\n2. 'uto'\n3. 'sri'\n4. 'cet'\n5. 'pet'\n6. 'sub'\n7. 'ned'\n\n\n",
            "text/latex": "\\begin{enumerate*}\n\\item 'pon'\n\\item 'uto'\n\\item 'sri'\n\\item 'cet'\n\\item 'pet'\n\\item 'sub'\n\\item 'ned'\n\\end{enumerate*}\n",
            "text/plain": [
              "[1] \"pon\" \"uto\" \"sri\" \"cet\" \"pet\" \"sub\" \"ned\""
            ]
          },
          "metadata": {}
        }
      ]
    },
    {
      "cell_type": "markdown",
      "source": [
        "Zadatak  \n",
        "Kreirajte vekotre gravoi_vekotr ciji ce elementi biti gradovi Rijeka, Zagreb Split i Osijek  \n",
        "Zatim ga ispite"
      ],
      "metadata": {
        "id": "92zufriuhWZr"
      }
    },
    {
      "cell_type": "code",
      "source": [
        "gradovi_vek = c ('Rijeka', 'Zagreb','Osijek','Split')\n",
        "gradovi_vek"
      ],
      "metadata": {
        "colab": {
          "base_uri": "https://localhost:8080/",
          "height": 34
        },
        "id": "5BnDcWxvhjwT",
        "outputId": "5a17b69d-52e8-4584-968d-c2b55a702249"
      },
      "execution_count": 13,
      "outputs": [
        {
          "output_type": "display_data",
          "data": {
            "text/html": [
              "<style>\n",
              ".list-inline {list-style: none; margin:0; padding: 0}\n",
              ".list-inline>li {display: inline-block}\n",
              ".list-inline>li:not(:last-child)::after {content: \"\\00b7\"; padding: 0 .5ex}\n",
              "</style>\n",
              "<ol class=list-inline><li>'Rijeka'</li><li>'Zagreb'</li><li>'Osijek'</li><li>'Split'</li></ol>\n"
            ],
            "text/markdown": "1. 'Rijeka'\n2. 'Zagreb'\n3. 'Osijek'\n4. 'Split'\n\n\n",
            "text/latex": "\\begin{enumerate*}\n\\item 'Rijeka'\n\\item 'Zagreb'\n\\item 'Osijek'\n\\item 'Split'\n\\end{enumerate*}\n",
            "text/plain": [
              "[1] \"Rijeka\" \"Zagreb\" \"Osijek\" \"Split\" "
            ]
          },
          "metadata": {}
        }
      ]
    },
    {
      "cell_type": "markdown",
      "source": [
        "Klase vektori"
      ],
      "metadata": {
        "id": "RHB2fMVSh04r"
      }
    },
    {
      "cell_type": "code",
      "source": [
        "class(gradovi_vek)"
      ],
      "metadata": {
        "colab": {
          "base_uri": "https://localhost:8080/",
          "height": 34
        },
        "id": "3681NYKIh2pK",
        "outputId": "551d835f-69b7-41d7-f3b0-206b209588f5"
      },
      "execution_count": 14,
      "outputs": [
        {
          "output_type": "display_data",
          "data": {
            "text/html": [
              "'character'"
            ],
            "text/markdown": "'character'",
            "text/latex": "'character'",
            "text/plain": [
              "[1] \"character\""
            ]
          },
          "metadata": {}
        }
      ]
    },
    {
      "cell_type": "code",
      "source": [
        "mjesoviti = c(TRUE,5,'Hello')\n",
        "class(mjesoviti)"
      ],
      "metadata": {
        "colab": {
          "base_uri": "https://localhost:8080/",
          "height": 34
        },
        "id": "eL648ndliH7y",
        "outputId": "2e56c2a2-be96-4846-86b6-cc0c556a9a08"
      },
      "execution_count": 16,
      "outputs": [
        {
          "output_type": "display_data",
          "data": {
            "text/html": [
              "'character'"
            ],
            "text/markdown": "'character'",
            "text/latex": "'character'",
            "text/plain": [
              "[1] \"character\""
            ]
          },
          "metadata": {}
        }
      ]
    },
    {
      "cell_type": "markdown",
      "source": [
        "Imenovanje vektora\n"
      ],
      "metadata": {
        "id": "elGUDTSujLFR"
      }
    },
    {
      "cell_type": "code",
      "source": [
        "gradovi_vek\n",
        "gradovi_vek[c(1,3)]\n",
        "gradovi_vek[-3]\n",
        "gradovi_vek[c(T,T,F)]"
      ],
      "metadata": {
        "colab": {
          "base_uri": "https://localhost:8080/",
          "height": 86
        },
        "id": "iLtLkATMjN1J",
        "outputId": "bfba012c-b1f3-4a3e-b92b-e3a04dd1bdfd"
      },
      "execution_count": 31,
      "outputs": [
        {
          "output_type": "display_data",
          "data": {
            "text/html": [
              "<style>\n",
              ".list-inline {list-style: none; margin:0; padding: 0}\n",
              ".list-inline>li {display: inline-block}\n",
              ".list-inline>li:not(:last-child)::after {content: \"\\00b7\"; padding: 0 .5ex}\n",
              "</style>\n",
              "<ol class=list-inline><li>'Rijeka'</li><li>'Zagreb'</li><li>'Osijek'</li><li>'Split'</li></ol>\n"
            ],
            "text/markdown": "1. 'Rijeka'\n2. 'Zagreb'\n3. 'Osijek'\n4. 'Split'\n\n\n",
            "text/latex": "\\begin{enumerate*}\n\\item 'Rijeka'\n\\item 'Zagreb'\n\\item 'Osijek'\n\\item 'Split'\n\\end{enumerate*}\n",
            "text/plain": [
              "[1] \"Rijeka\" \"Zagreb\" \"Osijek\" \"Split\" "
            ]
          },
          "metadata": {}
        },
        {
          "output_type": "display_data",
          "data": {
            "text/html": [
              "<style>\n",
              ".list-inline {list-style: none; margin:0; padding: 0}\n",
              ".list-inline>li {display: inline-block}\n",
              ".list-inline>li:not(:last-child)::after {content: \"\\00b7\"; padding: 0 .5ex}\n",
              "</style>\n",
              "<ol class=list-inline><li>'Rijeka'</li><li>'Osijek'</li></ol>\n"
            ],
            "text/markdown": "1. 'Rijeka'\n2. 'Osijek'\n\n\n",
            "text/latex": "\\begin{enumerate*}\n\\item 'Rijeka'\n\\item 'Osijek'\n\\end{enumerate*}\n",
            "text/plain": [
              "[1] \"Rijeka\" \"Osijek\""
            ]
          },
          "metadata": {}
        },
        {
          "output_type": "display_data",
          "data": {
            "text/html": [
              "<style>\n",
              ".list-inline {list-style: none; margin:0; padding: 0}\n",
              ".list-inline>li {display: inline-block}\n",
              ".list-inline>li:not(:last-child)::after {content: \"\\00b7\"; padding: 0 .5ex}\n",
              "</style>\n",
              "<ol class=list-inline><li>'Rijeka'</li><li>'Zagreb'</li><li>'Split'</li></ol>\n"
            ],
            "text/markdown": "1. 'Rijeka'\n2. 'Zagreb'\n3. 'Split'\n\n\n",
            "text/latex": "\\begin{enumerate*}\n\\item 'Rijeka'\n\\item 'Zagreb'\n\\item 'Split'\n\\end{enumerate*}\n",
            "text/plain": [
              "[1] \"Rijeka\" \"Zagreb\" \"Split\" "
            ]
          },
          "metadata": {}
        },
        {
          "output_type": "display_data",
          "data": {
            "text/html": [
              "<style>\n",
              ".list-inline {list-style: none; margin:0; padding: 0}\n",
              ".list-inline>li {display: inline-block}\n",
              ".list-inline>li:not(:last-child)::after {content: \"\\00b7\"; padding: 0 .5ex}\n",
              "</style>\n",
              "<ol class=list-inline><li>'Rijeka'</li><li>'Zagreb'</li><li>'Split'</li></ol>\n"
            ],
            "text/markdown": "1. 'Rijeka'\n2. 'Zagreb'\n3. 'Split'\n\n\n",
            "text/latex": "\\begin{enumerate*}\n\\item 'Rijeka'\n\\item 'Zagreb'\n\\item 'Split'\n\\end{enumerate*}\n",
            "text/plain": [
              "[1] \"Rijeka\" \"Zagreb\" \"Split\" "
            ]
          },
          "metadata": {}
        }
      ]
    },
    {
      "cell_type": "code",
      "source": [
        "potrosnja_vek <- c(4 , 56, 89 ,5 ,2 ,0 ,87)\n",
        "potrosnja_vek\n",
        "names(potrosnja_vek) <- vek\n",
        "potrosnja_vek[c('pon','cet')]"
      ],
      "metadata": {
        "colab": {
          "base_uri": "https://localhost:8080/",
          "height": 52
        },
        "id": "DFSoswANlVCJ",
        "outputId": "61ead26e-4ef2-4dd2-b75f-ac8d4579fa9f"
      },
      "execution_count": 35,
      "outputs": [
        {
          "output_type": "display_data",
          "data": {
            "text/html": [
              "<style>\n",
              ".list-inline {list-style: none; margin:0; padding: 0}\n",
              ".list-inline>li {display: inline-block}\n",
              ".list-inline>li:not(:last-child)::after {content: \"\\00b7\"; padding: 0 .5ex}\n",
              "</style>\n",
              "<ol class=list-inline><li>4</li><li>56</li><li>89</li><li>5</li><li>2</li><li>0</li><li>87</li></ol>\n"
            ],
            "text/markdown": "1. 4\n2. 56\n3. 89\n4. 5\n5. 2\n6. 0\n7. 87\n\n\n",
            "text/latex": "\\begin{enumerate*}\n\\item 4\n\\item 56\n\\item 89\n\\item 5\n\\item 2\n\\item 0\n\\item 87\n\\end{enumerate*}\n",
            "text/plain": [
              "[1]  4 56 89  5  2  0 87"
            ]
          },
          "metadata": {}
        },
        {
          "output_type": "display_data",
          "data": {
            "text/html": [
              "<style>\n",
              ".dl-inline {width: auto; margin:0; padding: 0}\n",
              ".dl-inline>dt, .dl-inline>dd {float: none; width: auto; display: inline-block}\n",
              ".dl-inline>dt::after {content: \":\\0020\"; padding-right: .5ex}\n",
              ".dl-inline>dt:not(:first-of-type) {padding-left: .5ex}\n",
              "</style><dl class=dl-inline><dt>pon</dt><dd>4</dd><dt>cet</dt><dd>5</dd></dl>\n"
            ],
            "text/markdown": "pon\n:   4cet\n:   5\n\n",
            "text/latex": "\\begin{description*}\n\\item[pon] 4\n\\item[cet] 5\n\\end{description*}\n",
            "text/plain": [
              "pon cet \n",
              "  4   5 "
            ]
          },
          "metadata": {}
        }
      ]
    },
    {
      "cell_type": "markdown",
      "source": [
        "Struktura podataka"
      ],
      "metadata": {
        "id": "blWk8qCEmdsI"
      }
    },
    {
      "cell_type": "code",
      "source": [
        "str(potrosnja_vek)"
      ],
      "metadata": {
        "colab": {
          "base_uri": "https://localhost:8080/"
        },
        "id": "pAlU-U7OmdCY",
        "outputId": "4084371e-fae7-4190-96e9-cf5a9e98f64d"
      },
      "execution_count": 36,
      "outputs": [
        {
          "output_type": "stream",
          "name": "stdout",
          "text": [
            " Named num [1:7] 4 56 89 5 2 0 87\n",
            " - attr(*, \"names\")= chr [1:7] \"pon\" \"uto\" \"sri\" \"cet\" ...\n"
          ]
        }
      ]
    },
    {
      "cell_type": "code",
      "source": [
        "potrosnja2_vek <- c(2,2,2,2,2,2,2)\n",
        "zbroj = potrosnja_vek+potrosnja2_vek\n",
        "zbroj"
      ],
      "metadata": {
        "colab": {
          "base_uri": "https://localhost:8080/",
          "height": 34
        },
        "id": "9dEJIbaom_Jo",
        "outputId": "57499518-c815-456b-9999-88e72fac871c"
      },
      "execution_count": 38,
      "outputs": [
        {
          "output_type": "display_data",
          "data": {
            "text/html": [
              "<style>\n",
              ".dl-inline {width: auto; margin:0; padding: 0}\n",
              ".dl-inline>dt, .dl-inline>dd {float: none; width: auto; display: inline-block}\n",
              ".dl-inline>dt::after {content: \":\\0020\"; padding-right: .5ex}\n",
              ".dl-inline>dt:not(:first-of-type) {padding-left: .5ex}\n",
              "</style><dl class=dl-inline><dt>pon</dt><dd>6</dd><dt>uto</dt><dd>58</dd><dt>sri</dt><dd>91</dd><dt>cet</dt><dd>7</dd><dt>pet</dt><dd>4</dd><dt>sub</dt><dd>2</dd><dt>ned</dt><dd>89</dd></dl>\n"
            ],
            "text/markdown": "pon\n:   6uto\n:   58sri\n:   91cet\n:   7pet\n:   4sub\n:   2ned\n:   89\n\n",
            "text/latex": "\\begin{description*}\n\\item[pon] 6\n\\item[uto] 58\n\\item[sri] 91\n\\item[cet] 7\n\\item[pet] 4\n\\item[sub] 2\n\\item[ned] 89\n\\end{description*}\n",
            "text/plain": [
              "pon uto sri cet pet sub ned \n",
              "  6  58  91   7   4   2  89 "
            ]
          },
          "metadata": {}
        }
      ]
    },
    {
      "cell_type": "code",
      "source": [
        "servisi2022_vek = c(2,4,3,1,6,4,3,2,6,7,9,12)\n",
        "mje = c('sij','vel','ozu','tra','svi','lip','srp','kol','ruj','lis','stu','pro')\n",
        "names(servisi2022_vek) <- mje\n",
        "servisi2022_vek\n",
        "servisi2023_vek = servisi2022_vek *2\n",
        "servisi2023_vek"
      ],
      "metadata": {
        "colab": {
          "base_uri": "https://localhost:8080/",
          "height": 52
        },
        "id": "bFPRWrIfnbsg",
        "outputId": "2a02e3b2-a469-43b1-913d-1964e8c35cc2"
      },
      "execution_count": 42,
      "outputs": [
        {
          "output_type": "display_data",
          "data": {
            "text/html": [
              "<style>\n",
              ".dl-inline {width: auto; margin:0; padding: 0}\n",
              ".dl-inline>dt, .dl-inline>dd {float: none; width: auto; display: inline-block}\n",
              ".dl-inline>dt::after {content: \":\\0020\"; padding-right: .5ex}\n",
              ".dl-inline>dt:not(:first-of-type) {padding-left: .5ex}\n",
              "</style><dl class=dl-inline><dt>sij</dt><dd>2</dd><dt>vel</dt><dd>4</dd><dt>ozu</dt><dd>3</dd><dt>tra</dt><dd>1</dd><dt>svi</dt><dd>6</dd><dt>lip</dt><dd>4</dd><dt>srp</dt><dd>3</dd><dt>kol</dt><dd>2</dd><dt>ruj</dt><dd>6</dd><dt>lis</dt><dd>7</dd><dt>stu</dt><dd>9</dd><dt>pro</dt><dd>12</dd></dl>\n"
            ],
            "text/markdown": "sij\n:   2vel\n:   4ozu\n:   3tra\n:   1svi\n:   6lip\n:   4srp\n:   3kol\n:   2ruj\n:   6lis\n:   7stu\n:   9pro\n:   12\n\n",
            "text/latex": "\\begin{description*}\n\\item[sij] 2\n\\item[vel] 4\n\\item[ozu] 3\n\\item[tra] 1\n\\item[svi] 6\n\\item[lip] 4\n\\item[srp] 3\n\\item[kol] 2\n\\item[ruj] 6\n\\item[lis] 7\n\\item[stu] 9\n\\item[pro] 12\n\\end{description*}\n",
            "text/plain": [
              "sij vel ozu tra svi lip srp kol ruj lis stu pro \n",
              "  2   4   3   1   6   4   3   2   6   7   9  12 "
            ]
          },
          "metadata": {}
        },
        {
          "output_type": "display_data",
          "data": {
            "text/html": [
              "<style>\n",
              ".dl-inline {width: auto; margin:0; padding: 0}\n",
              ".dl-inline>dt, .dl-inline>dd {float: none; width: auto; display: inline-block}\n",
              ".dl-inline>dt::after {content: \":\\0020\"; padding-right: .5ex}\n",
              ".dl-inline>dt:not(:first-of-type) {padding-left: .5ex}\n",
              "</style><dl class=dl-inline><dt>sij</dt><dd>4</dd><dt>vel</dt><dd>8</dd><dt>ozu</dt><dd>6</dd><dt>tra</dt><dd>2</dd><dt>svi</dt><dd>12</dd><dt>lip</dt><dd>8</dd><dt>srp</dt><dd>6</dd><dt>kol</dt><dd>4</dd><dt>ruj</dt><dd>12</dd><dt>lis</dt><dd>14</dd><dt>stu</dt><dd>18</dd><dt>pro</dt><dd>24</dd></dl>\n"
            ],
            "text/markdown": "sij\n:   4vel\n:   8ozu\n:   6tra\n:   2svi\n:   12lip\n:   8srp\n:   6kol\n:   4ruj\n:   12lis\n:   14stu\n:   18pro\n:   24\n\n",
            "text/latex": "\\begin{description*}\n\\item[sij] 4\n\\item[vel] 8\n\\item[ozu] 6\n\\item[tra] 2\n\\item[svi] 12\n\\item[lip] 8\n\\item[srp] 6\n\\item[kol] 4\n\\item[ruj] 12\n\\item[lis] 14\n\\item[stu] 18\n\\item[pro] 24\n\\end{description*}\n",
            "text/plain": [
              "sij vel ozu tra svi lip srp kol ruj lis stu pro \n",
              "  4   8   6   2  12   8   6   4  12  14  18  24 "
            ]
          },
          "metadata": {}
        }
      ]
    }
  ]
}